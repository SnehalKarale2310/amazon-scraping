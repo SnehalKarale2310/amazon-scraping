{
 "cells": [
  {
   "cell_type": "code",
   "execution_count": 1,
   "id": "front-dryer",
   "metadata": {},
   "outputs": [],
   "source": [
    "import csv\n",
    "from bs4 import BeautifulSoup\n",
    "from selenium import webdriver\n",
    "driver = webdriver.Chrome(\"C:\\\\Users\\\\Dell\\\\.wdm\\\\drivers\\\\chromedriver.exe\")"
   ]
  },
  {
   "cell_type": "code",
   "execution_count": 2,
   "id": "collective-network",
   "metadata": {},
   "outputs": [],
   "source": [
    "url=\"https://www.amazon.in\"\n",
    "driver.get(url)"
   ]
  },
  {
   "cell_type": "code",
   "execution_count": 3,
   "id": "designing-fairy",
   "metadata": {},
   "outputs": [],
   "source": [
    "def get_url(search_term):\n",
    "    template = 'https://www.amazon.in/s?k=smartphones&rh=n%3A1389401031&ref=nb_sb_noss'\n",
    "    search_term = search_term.replace('', '+')\n",
    "    return template.format(search_term)\n",
    "url = get_url('smartphones')\n",
    "driver.get(url)"
   ]
  },
  {
   "cell_type": "code",
   "execution_count": 4,
   "id": "editorial-basic",
   "metadata": {},
   "outputs": [],
   "source": [
    "soup = BeautifulSoup(driver.page_source,'html.parser')\n",
    "results = soup.find_all('div',{'data-component-type': 's-search-result'})\n",
    "item = results[0]"
   ]
  },
  {
   "cell_type": "code",
   "execution_count": 5,
   "id": "extreme-vacuum",
   "metadata": {},
   "outputs": [],
   "source": [
    "def extract_record(item):\n",
    "    atag = item.h2.a\n",
    "    description = atag.text.strip()\n",
    "    url = 'https://www.amazon.in' + atag.get('href')\n",
    "    try:\n",
    "        price_parent = item.find('span', 'a-price')\n",
    "        price = price_parent.find('span', 'a-offscreen').text\n",
    "    except AttributeError:\n",
    "        return\n",
    "    try:\n",
    "        rating = item.i.text\n",
    "        review_count = item.find('span', {'class': 'a-size-base', 'dir': 'auto'}).text\n",
    "    except AttributeError:\n",
    "        rating = ''\n",
    "        review_count = ''\n",
    "    result = (description, price, rating, review_count, url)\n",
    "    return result\n",
    "\n",
    "    "
   ]
  },
  {
   "cell_type": "code",
   "execution_count": 6,
   "id": "coupled-indonesia",
   "metadata": {},
   "outputs": [],
   "source": [
    "records = []\n",
    "results = soup.find_all('div',{'data-component-type': 's-search-result'})"
   ]
  },
  {
   "cell_type": "code",
   "execution_count": 7,
   "id": "alone-performer",
   "metadata": {},
   "outputs": [],
   "source": [
    "for item in results:\n",
    "    record = extract_record(item)\n",
    "    if record:\n",
    "        records.append(record)\n"
   ]
  },
  {
   "cell_type": "code",
   "execution_count": 8,
   "id": "featured-ontario",
   "metadata": {},
   "outputs": [],
   "source": [
    "def get_url_format(search_term):\n",
    "    template = 'https://www.amazon.in/s?k=smartphones&rh=n%3A1389401031&ref=nb_sb_noss'\n",
    "    search_term = search_term.replace('', '+')\n",
    "    url = template.format(search_term)\n",
    "    url += '&page()'\n",
    "    return url"
   ]
  },
  {
   "cell_type": "code",
   "execution_count": 9,
   "id": "beneficial-powder",
   "metadata": {},
   "outputs": [],
   "source": [
    "def extract_record(item):\n",
    "    atag = item.h2.a\n",
    "    description = atag.text.strip()\n",
    "    url = 'https://www.amazon.in' + atag.get('href')\n",
    "    try:\n",
    "        price_parent = item.find('span', 'a-price')\n",
    "        price = price_parent.find('span', 'a-offscreen').text\n",
    "    except AttributeError:\n",
    "            return\n",
    "    try:\n",
    "        rating = item.i.text\n",
    "        review_count = item.find('span', {'class': 'a-size-base', 'dir': 'auto'}).text\n",
    "    except AttributeError:\n",
    "        rating = ''\n",
    "        review_count = ''\n",
    "    result = (description, price, rating, review_count,url)\n",
    "    return result"
   ]
  },
  {
   "cell_type": "code",
   "execution_count": 10,
   "id": "coordinated-plasma",
   "metadata": {},
   "outputs": [],
   "source": [
    "def main(search_term):\n",
    "    record = []\n",
    "    url = get_url(search_term)\n",
    "    for page in range(1,21):\n",
    "        get_url_format(url.format(page))\n",
    "        soup = BeautifulSoup(driver.page_source, 'html.parser')\n",
    "        results = soup.find_all('div',{'data-component-type': 's-search-result'})\n",
    "        for item in results:\n",
    "            record = extract_record(item)\n",
    "            if record:\n",
    "                records.append(record)\n",
    "       \n",
    "        with open('results.csv','w', newline='', encoding='utf-8') as f:\n",
    "            writer = csv.writer(f)\n",
    "            writer.writerow({'Description', 'Price', 'Rating', 'Reviewcount','Url'})\n",
    "            writer.writerows(records)"
   ]
  },
  {
   "cell_type": "code",
   "execution_count": 11,
   "id": "express-wallpaper",
   "metadata": {},
   "outputs": [],
   "source": [
    "main('smartphones')\n",
    "driver.close()"
   ]
  },
  {
   "cell_type": "code",
   "execution_count": null,
   "id": "retained-sphere",
   "metadata": {},
   "outputs": [],
   "source": []
  }
 ],
 "metadata": {
  "kernelspec": {
   "display_name": "Python 3",
   "language": "python",
   "name": "python3"
  },
  "language_info": {
   "codemirror_mode": {
    "name": "ipython",
    "version": 3
   },
   "file_extension": ".py",
   "mimetype": "text/x-python",
   "name": "python",
   "nbconvert_exporter": "python",
   "pygments_lexer": "ipython3",
   "version": "3.9.1"
  }
 },
 "nbformat": 4,
 "nbformat_minor": 5
}
